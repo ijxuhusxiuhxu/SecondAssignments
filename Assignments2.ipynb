{
  "nbformat": 4,
  "nbformat_minor": 0,
  "metadata": {
    "colab": {
      "provenance": []
    },
    "kernelspec": {
      "name": "python3",
      "display_name": "Python 3"
    },
    "language_info": {
      "name": "python"
    }
  },
  "cells": [
    {
      "cell_type": "markdown",
      "source": [
        "#Q1.What are the two values of the Boolean data type? How do you write them?"
      ],
      "metadata": {
        "id": "ccVNfl2up97D"
      }
    },
    {
      "cell_type": "code",
      "execution_count": null,
      "metadata": {
        "id": "GAXIRceTpZv4"
      },
      "outputs": [],
      "source": [
        "#A boolean is a data type with two possible values:\n",
        "#true (1) or false (0). The two values help represent truth conditions found in logic control structures.\n",
        "First = True\n",
        "Second = False"
      ]
    },
    {
      "cell_type": "markdown",
      "source": [
        "#Q2.What are the three different types of Boolean operators?"
      ],
      "metadata": {
        "id": "DStUu5rK0mjb"
      }
    },
    {
      "cell_type": "markdown",
      "source": [
        "#Logical Operator\n",
        "1. and       conditional AND"
      ],
      "metadata": {
        "id": "-z9LdFF-1GfF"
      }
    },
    {
      "cell_type": "code",
      "source": [
        "#The logical AND operator returns true if both operands are true; otherwise, it returns false\n",
        "python = True and False"
      ],
      "metadata": {
        "id": "R7npdCaT1X6I"
      },
      "execution_count": null,
      "outputs": []
    },
    {
      "cell_type": "markdown",
      "source": [
        "2. not       unary negation"
      ],
      "metadata": {
        "id": "gDtWIKRH3DmP"
      }
    },
    {
      "cell_type": "code",
      "source": [
        "#The logical NOT operator is a unary operator that negates the value of its operand. If the operand is true, the logical NOT operator returns false, and if the operand is false, it returns true.\n",
        "STAR = True\n",
        "print(STAR)"
      ],
      "metadata": {
        "colab": {
          "base_uri": "https://localhost:8080/"
        },
        "id": "HkGvKWud3Gui",
        "outputId": "75f0bce2-287e-4301-96c9-945d72dd91a9"
      },
      "execution_count": null,
      "outputs": [
        {
          "output_type": "stream",
          "name": "stdout",
          "text": [
            "True\n"
          ]
        }
      ]
    },
    {
      "cell_type": "code",
      "source": [
        "print(not STAR)"
      ],
      "metadata": {
        "colab": {
          "base_uri": "https://localhost:8080/"
        },
        "id": "IOpSP1QZ2BHK",
        "outputId": "75de119c-0d2e-40bb-ad6d-b3d14e8fe967"
      },
      "execution_count": null,
      "outputs": [
        {
          "output_type": "stream",
          "name": "stdout",
          "text": [
            "False\n"
          ]
        }
      ]
    },
    {
      "cell_type": "markdown",
      "source": [
        "3. or        conditional OR"
      ],
      "metadata": {
        "id": "E9F8wa6k2Xzl"
      }
    },
    {
      "cell_type": "code",
      "source": [
        "#The logical OR operator returns true if at least one of the operands is true; otherwise, it returns false. It can be represented using the symbol \"||\" or the keyword \"OR.\"\n",
        "own_credit_card = False\n",
        "own_debit_card = False\n",
        "\n",
        "if own_credit_card or own_debit_card:\n",
        "    print(\"proceed futher the payment\")\n",
        "else:\n",
        "    print(\"Ask from dad for the credit card or debit? \")\n",
        "    print(\"Cash on delivery? \")"
      ],
      "metadata": {
        "colab": {
          "base_uri": "https://localhost:8080/"
        },
        "id": "SgMc6POT2R7m",
        "outputId": "9f2f506a-edee-4ca7-dc88-d13b226a45d0"
      },
      "execution_count": null,
      "outputs": [
        {
          "output_type": "stream",
          "name": "stdout",
          "text": [
            "Ask from dad for the credit card or debit? \n",
            "Cash on delivery? \n"
          ]
        }
      ]
    },
    {
      "cell_type": "code",
      "source": [
        "own_credit_card = False\n",
        "own_debit_card = True\n",
        "\n",
        "if own_credit_card or own_debit_card:\n",
        "    print(\"proceed futher the payment\")\n",
        "else:\n",
        "    print(\"Ask from dad for the credit card or debit? \")\n",
        "    print(\"Cash on delivery? \")"
      ],
      "metadata": {
        "colab": {
          "base_uri": "https://localhost:8080/"
        },
        "id": "Qi6BzVBP33ef",
        "outputId": "ab9daee6-7734-4042-8c98-9a1587a50bce"
      },
      "execution_count": null,
      "outputs": [
        {
          "output_type": "stream",
          "name": "stdout",
          "text": [
            "proceed futher the payment\n"
          ]
        }
      ]
    },
    {
      "cell_type": "markdown",
      "source": [
        "#Q3.Make a list of each Boolean operator&#39;s truth tables (i.e. every possible combination of Boolean\n",
        "values for the operator and what it evaluate )."
      ],
      "metadata": {
        "id": "MjUeUvj_4Cgu"
      }
    },
    {
      "cell_type": "markdown",
      "source": [
        "Logical AND\n"
      ],
      "metadata": {
        "id": "Rhx-X6J74Ql3"
      }
    },
    {
      "cell_type": "code",
      "source": [
        "Operand 1\tOperand 2\tResult\n",
        "false\t | false\t| false\n",
        "false\t | true\t  | false\n",
        "true\t | false\t| false"
      ],
      "metadata": {
        "id": "vuE-aH7h4cwa"
      },
      "execution_count": null,
      "outputs": []
    },
    {
      "cell_type": "markdown",
      "source": [
        "Logical OR"
      ],
      "metadata": {
        "id": "it0mmUlm45nj"
      }
    },
    {
      "cell_type": "code",
      "source": [
        "Operand 1\tOperand 2\tResult\n",
        "false  |\tfalse\t | false\n",
        "false\t |  true\t | true\n",
        "true\t |  false\t | true\n",
        "true\t |  true\t | true"
      ],
      "metadata": {
        "id": "3coJyrRe4_uz"
      },
      "execution_count": null,
      "outputs": []
    },
    {
      "cell_type": "markdown",
      "source": [
        "Logical NOT"
      ],
      "metadata": {
        "id": "MQnYpcZj5cfz"
      }
    },
    {
      "cell_type": "code",
      "source": [
        "Operand\tResult\n",
        "false\t | true\n",
        "true\t | false"
      ],
      "metadata": {
        "id": "PfNSw-rG5WeF"
      },
      "execution_count": null,
      "outputs": []
    },
    {
      "cell_type": "markdown",
      "source": [
        "#Q4. What are the values of the following expressions?\n",
        "(5 &gt; 4) and (3 == 5)\n",
        "not (5 &gt; 4)\n",
        "(5 &gt; 4) or (3 == 5)\n",
        "not ((5 &gt; 4) or (3 == 5))\n",
        "(True and True) and (True == False)\n",
        "(not False) or (not True)"
      ],
      "metadata": {
        "id": "EM43Q_ZD5mBw"
      }
    },
    {
      "cell_type": "code",
      "source": [
        "#1.\n",
        "(5 > 4) and (3 == 5)\n",
        "\n",
        "(5 > 4) evaluates to True\n",
        "(3 == 5) evaluates to False\n",
        "True and False evaluates to False"
      ],
      "metadata": {
        "id": "d_epbdV25tqn"
      },
      "execution_count": null,
      "outputs": []
    },
    {
      "cell_type": "code",
      "source": [
        "#2.\n",
        "not (5 > 4)\n",
        "\n",
        "(5 > 4) evaluates to True\n",
        "not True evaluates to False"
      ],
      "metadata": {
        "id": "DlHRciZA5_W-"
      },
      "execution_count": null,
      "outputs": []
    },
    {
      "cell_type": "code",
      "source": [
        "#3\n",
        "(5 > 4) or (3 == 5)\n",
        "\n",
        "(5 > 4) evaluates to True\n",
        "(3 == 5) evaluates to False\n",
        "True or False evaluates to True"
      ],
      "metadata": {
        "id": "s6alN58D6BUu"
      },
      "execution_count": null,
      "outputs": []
    },
    {
      "cell_type": "code",
      "source": [
        "#4\n",
        "not ((5 > 4) or (3 == 5))\n",
        "\n",
        "(5 > 4) evaluates to True\n",
        "(3 == 5) evaluates to False\n",
        "True or False evaluates to True\n",
        "not True evaluates to False"
      ],
      "metadata": {
        "id": "59jgk5Gl6H1K"
      },
      "execution_count": null,
      "outputs": []
    },
    {
      "cell_type": "code",
      "source": [
        "#5\n",
        "(True and True) and (True == False)\n",
        "\n",
        "True and True evaluates to True\n",
        "True == False evaluates to False\n",
        "True and False evaluates to False"
      ],
      "metadata": {
        "id": "R8Qz2j1U6LQA"
      },
      "execution_count": null,
      "outputs": []
    },
    {
      "cell_type": "code",
      "source": [
        "#6\n",
        "(not False) or (not True)\n",
        "\n",
        "not False evaluates to True\n",
        "not True evaluates to False\n",
        "True or False evaluates to True"
      ],
      "metadata": {
        "id": "8YhkJRCA6Oiy"
      },
      "execution_count": null,
      "outputs": []
    },
    {
      "cell_type": "markdown",
      "source": [
        "#Q5. What are the six comparison operators?"
      ],
      "metadata": {
        "id": "LdbzfT6C6SDz"
      }
    },
    {
      "cell_type": "markdown",
      "source": [
        "Equal to (==)"
      ],
      "metadata": {
        "id": "LoYjz2l_oKry"
      }
    },
    {
      "cell_type": "code",
      "source": [
        "3 == 3 #It checks if two values are equal to each other."
      ],
      "metadata": {
        "colab": {
          "base_uri": "https://localhost:8080/"
        },
        "id": "HEhx_yw9oUMJ",
        "outputId": "7e952f8a-e281-41b3-f0bd-523328083dce"
      },
      "execution_count": 1,
      "outputs": [
        {
          "output_type": "execute_result",
          "data": {
            "text/plain": [
              "True"
            ]
          },
          "metadata": {},
          "execution_count": 1
        }
      ]
    },
    {
      "cell_type": "markdown",
      "source": [
        "Not equal to (!=)"
      ],
      "metadata": {
        "id": "cKKjOvn3op2W"
      }
    },
    {
      "cell_type": "code",
      "source": [
        "3 != 4 #It checks if two values are not equal to each other."
      ],
      "metadata": {
        "colab": {
          "base_uri": "https://localhost:8080/"
        },
        "id": "ae3HMmNEoUCM",
        "outputId": "a08aca64-5f49-4a1f-adfc-c9d8ec0de955"
      },
      "execution_count": 2,
      "outputs": [
        {
          "output_type": "execute_result",
          "data": {
            "text/plain": [
              "True"
            ]
          },
          "metadata": {},
          "execution_count": 2
        }
      ]
    },
    {
      "cell_type": "markdown",
      "source": [
        "Greater than (>)"
      ],
      "metadata": {
        "id": "9d39Hpugo6a1"
      }
    },
    {
      "cell_type": "code",
      "source": [
        "5 > 3 #It checks if the left operand is greater than the right operand."
      ],
      "metadata": {
        "colab": {
          "base_uri": "https://localhost:8080/"
        },
        "id": "G5h-LWNVoT-n",
        "outputId": "fa63bda3-8436-4264-e479-6764a312dbe2"
      },
      "execution_count": 3,
      "outputs": [
        {
          "output_type": "execute_result",
          "data": {
            "text/plain": [
              "True"
            ]
          },
          "metadata": {},
          "execution_count": 3
        }
      ]
    },
    {
      "cell_type": "markdown",
      "source": [
        "Less than (<)"
      ],
      "metadata": {
        "id": "PX2tNkdKpH-R"
      }
    },
    {
      "cell_type": "code",
      "source": [
        "2 < 6 #It checks if the left operand is less than the right operand."
      ],
      "metadata": {
        "colab": {
          "base_uri": "https://localhost:8080/"
        },
        "id": "PahWUGqNoT63",
        "outputId": "aa287415-494e-4826-d749-69ad7e284139"
      },
      "execution_count": 4,
      "outputs": [
        {
          "output_type": "execute_result",
          "data": {
            "text/plain": [
              "True"
            ]
          },
          "metadata": {},
          "execution_count": 4
        }
      ]
    },
    {
      "cell_type": "markdown",
      "source": [
        "Greater than or equal to (>=)"
      ],
      "metadata": {
        "id": "x0uBY4HqpUv-"
      }
    },
    {
      "cell_type": "code",
      "source": [
        "4 >= 4 #It checks if the left operand is greater than or equal to the right operand."
      ],
      "metadata": {
        "colab": {
          "base_uri": "https://localhost:8080/"
        },
        "id": "0saLEopBoT3C",
        "outputId": "6d84b69d-97fd-4f53-e4aa-d23f27e51bc5"
      },
      "execution_count": 5,
      "outputs": [
        {
          "output_type": "execute_result",
          "data": {
            "text/plain": [
              "True"
            ]
          },
          "metadata": {},
          "execution_count": 5
        }
      ]
    },
    {
      "cell_type": "markdown",
      "source": [
        "Less than or equal to (<=)"
      ],
      "metadata": {
        "id": "_mF4FG0YpiYw"
      }
    },
    {
      "cell_type": "code",
      "source": [
        "3 <= 5 #It checks if the left operand is less than or equal to the right operand."
      ],
      "metadata": {
        "colab": {
          "base_uri": "https://localhost:8080/"
        },
        "id": "3mBssA3hoTy-",
        "outputId": "f4d2f283-9d33-4c59-8ca9-79efe002f84d"
      },
      "execution_count": 6,
      "outputs": [
        {
          "output_type": "execute_result",
          "data": {
            "text/plain": [
              "True"
            ]
          },
          "metadata": {},
          "execution_count": 6
        }
      ]
    },
    {
      "cell_type": "markdown",
      "source": [
        "#Q6.How do you tell the difference between the equal to and assignment operators?Describe a\n",
        "condition and when you would use one."
      ],
      "metadata": {
        "id": "ypws7cj4p-fW"
      }
    },
    {
      "cell_type": "markdown",
      "source": [
        "Equal to (==) operator"
      ],
      "metadata": {
        "id": "tx9BhHP6qhju"
      }
    },
    {
      "cell_type": "code",
      "source": [
        "#The equality operator is used to compare two values to check if they are equal to each other.\n",
        "x = 5\n",
        "y = 3\n",
        "\n",
        "if x == y:\n",
        "    print(\"x is equal to y\")\n",
        "else:\n",
        "    print(\"x is not equal to y\")\n",
        "#In the above example, the equality operator (==) is used to compare the values of x and y. Since x is not equal to y, the condition evaluates to false, and the output will be \"x is not equal to y\"."
      ],
      "metadata": {
        "colab": {
          "base_uri": "https://localhost:8080/"
        },
        "id": "dISVC27HoTuy",
        "outputId": "71d734a1-0232-4e94-df37-2cb66e7080ec"
      },
      "execution_count": 7,
      "outputs": [
        {
          "output_type": "stream",
          "name": "stdout",
          "text": [
            "x is not equal to y\n"
          ]
        }
      ]
    },
    {
      "cell_type": "markdown",
      "source": [
        "Assignment (=) operator"
      ],
      "metadata": {
        "id": "G1paA25Nq39Q"
      }
    },
    {
      "cell_type": "code",
      "source": [
        "#The assignment operator is used to assign a value to a variable. It assigns the value on the right-hand side of the operator to the variable on the left-hand side\n",
        "x = 5\n",
        "y = x\n",
        "\n",
        "print(y)  # Output: 5\n",
        "#In this example, the assignment operator (=) is used to assign the value of x to y. The value of x (which is 5) is assigned to y, so when we print the value of y, it will be 5.\n"
      ],
      "metadata": {
        "colab": {
          "base_uri": "https://localhost:8080/"
        },
        "id": "oVajQg8-oTqW",
        "outputId": "ecb35c9c-66a4-452d-fda4-60fbe986a8f2"
      },
      "execution_count": 8,
      "outputs": [
        {
          "output_type": "stream",
          "name": "stdout",
          "text": [
            "5\n"
          ]
        }
      ]
    },
    {
      "cell_type": "markdown",
      "source": [
        "#Q7.Identify the three blocks in this code:\n",
        "spam = 0\n",
        "if spam == 10:\n",
        "print(&#39;eggs&#39;)\n",
        "if spam &gt; 5:\n",
        "print(&#39;bacon&#39;)\n",
        "else:\n",
        "print(&#39;ham&#39;)\n",
        "print(&#39;spam&#39;)\n",
        "print(&#39;spam&#39;)"
      ],
      "metadata": {
        "id": "2j1dC7UgrMxP"
      }
    },
    {
      "cell_type": "markdown",
      "source": [
        "Block 1"
      ],
      "metadata": {
        "id": "nwhWKg4qrWK9"
      }
    },
    {
      "cell_type": "code",
      "source": [
        "if spam == 10\n",
        "    print('eggs')\n",
        "#This block is an if statement with the condition spam == 10. If the condition is true, it will execute the indented code print('eggs')"
      ],
      "metadata": {
        "id": "B7G4SAh0oTef"
      },
      "execution_count": null,
      "outputs": []
    },
    {
      "cell_type": "markdown",
      "source": [
        "Block 2"
      ],
      "metadata": {
        "id": "YG90z4mFroh7"
      }
    },
    {
      "cell_type": "code",
      "source": [
        "if spam > 5:\n",
        "    print('bacon')\n",
        "#This block is another if statement with the condition spam > 5. If the condition is true, it will execute the indented code print('bacon')."
      ],
      "metadata": {
        "id": "1R0KTyv1oTEx"
      },
      "execution_count": null,
      "outputs": []
    },
    {
      "cell_type": "markdown",
      "source": [
        "Block 3"
      ],
      "metadata": {
        "id": "qRz0Xl0Fr-6m"
      }
    },
    {
      "cell_type": "code",
      "source": [
        "else:\n",
        "    print('ham')\n",
        "print('spam')\n",
        "print('spam')\n",
        "#This block consists of an else statement followed by three consecutive print statements. The else statement is associated with the second if statement. If the condition spam > 5 is false, it will execute the indented code print('ham'). After the else statement, there are three print statements that will be executed regardless of the conditions."
      ],
      "metadata": {
        "id": "2pc6xIBWr6HL"
      },
      "execution_count": null,
      "outputs": []
    },
    {
      "cell_type": "markdown",
      "source": [
        "#Q8.Write code that prints Hello if 1 is stored in spam, prints Howdy if 2 is stored in spam, and prints\n",
        "Greetings! if anything else is stored in spam."
      ],
      "metadata": {
        "id": "XsdpAAFosNhQ"
      }
    },
    {
      "cell_type": "code",
      "source": [
        "spam = 2\n",
        "\n",
        "if spam == 1:\n",
        "    print(\"Hello\")\n",
        "elif spam == 2:\n",
        "    print(\"Howdy\")\n",
        "else:\n",
        "    print(\"Greetings!\")\n"
      ],
      "metadata": {
        "colab": {
          "base_uri": "https://localhost:8080/"
        },
        "id": "_bCu7xwGr6C5",
        "outputId": "4ab5bb24-1bd8-47e6-9e35-0551a086ba66"
      },
      "execution_count": 13,
      "outputs": [
        {
          "output_type": "stream",
          "name": "stdout",
          "text": [
            "Howdy\n"
          ]
        }
      ]
    },
    {
      "cell_type": "markdown",
      "source": [
        "#Q9.If your programme is stuck in an endless loop, what keys you’ll press?"
      ],
      "metadata": {
        "id": "WunNHXqLshQI"
      }
    },
    {
      "cell_type": "code",
      "source": [
        "#Ctrl + C (for Windows, Linux, and macOS): This key combination sends an interrupt signal (SIGINT) to the running program, causing it to terminate. It's the most common way to break out of an infinite loop or stop a program that is unresponsive.\n"
      ],
      "metadata": {
        "id": "lWCsni5ir6AU"
      },
      "execution_count": null,
      "outputs": []
    },
    {
      "cell_type": "markdown",
      "source": [
        "#Q10.How can you tell the difference between break and continue?"
      ],
      "metadata": {
        "id": "tXbUFlD_s4bq"
      }
    },
    {
      "cell_type": "markdown",
      "source": [
        "break statement"
      ],
      "metadata": {
        "id": "zM3_D-nctJz7"
      }
    },
    {
      "cell_type": "code",
      "source": [
        "for i in range(1, 6):\n",
        "    if i == 3:\n",
        "        break\n",
        "    print(i)\n",
        "#When encountered within a loop, the break statement immediately terminates the loop and resumes execution at the next statement outside the loop.\n",
        "#The break statement is typically used to exit a loop prematurely based on certain conditions."
      ],
      "metadata": {
        "colab": {
          "base_uri": "https://localhost:8080/"
        },
        "id": "d6KmPU5dr54V",
        "outputId": "86ee7df7-1a5b-492e-9cf7-0371432c3057"
      },
      "execution_count": 14,
      "outputs": [
        {
          "output_type": "stream",
          "name": "stdout",
          "text": [
            "1\n",
            "2\n"
          ]
        }
      ]
    },
    {
      "cell_type": "markdown",
      "source": [
        "continue statement"
      ],
      "metadata": {
        "id": "R6spil10tkJY"
      }
    },
    {
      "cell_type": "code",
      "source": [
        "for i in range(1, 6):\n",
        "    if i == 3:\n",
        "        continue\n",
        "    print(i)\n",
        "#When encountered within a loop, the continue statement immediately skips the rest of the loop's current iteration and moves to the next iteration.\n",
        "#The continue statement is typically used to skip specific iterations or to exclude certain elements from processing within a loop."
      ],
      "metadata": {
        "colab": {
          "base_uri": "https://localhost:8080/"
        },
        "id": "WLM-nhiqr51Z",
        "outputId": "185e48c9-9f02-4ad0-965f-22dd78c59a75"
      },
      "execution_count": 15,
      "outputs": [
        {
          "output_type": "stream",
          "name": "stdout",
          "text": [
            "1\n",
            "2\n",
            "4\n",
            "5\n"
          ]
        }
      ]
    },
    {
      "cell_type": "markdown",
      "source": [
        "#Q11.In a for loop, what is the difference between range(10), range(0, 10), and range(0, 10, 1)?"
      ],
      "metadata": {
        "id": "4dFTCJzrt_Ca"
      }
    },
    {
      "cell_type": "markdown",
      "source": [
        "range(10)"
      ],
      "metadata": {
        "id": "3Q3WXujtuNrj"
      }
    },
    {
      "cell_type": "code",
      "source": [
        "for i in range(10):\n",
        "    print(i)\n",
        "#This expression generates a sequence of numbers from 0 to 9 (inclusive) by default.\n",
        "#In other words, the sequence will include values from 0 to 9 (a total of 10 numbers).\n"
      ],
      "metadata": {
        "colab": {
          "base_uri": "https://localhost:8080/"
        },
        "id": "0xWpavDGr5yK",
        "outputId": "01f034c2-8c76-4fe0-d3bd-2facef54c868"
      },
      "execution_count": 16,
      "outputs": [
        {
          "output_type": "stream",
          "name": "stdout",
          "text": [
            "0\n",
            "1\n",
            "2\n",
            "3\n",
            "4\n",
            "5\n",
            "6\n",
            "7\n",
            "8\n",
            "9\n"
          ]
        }
      ]
    },
    {
      "cell_type": "markdown",
      "source": [
        "range(0, 10)"
      ],
      "metadata": {
        "id": "zm5A6gonuflH"
      }
    },
    {
      "cell_type": "code",
      "source": [
        "for i in range(0, 10):\n",
        "    print(i)\n",
        "#This expression explicitly defines the start and end points of the range"
      ],
      "metadata": {
        "colab": {
          "base_uri": "https://localhost:8080/"
        },
        "id": "WPsFGByBr5uc",
        "outputId": "d7f87076-81f2-4850-e776-44a5aab489c1"
      },
      "execution_count": 17,
      "outputs": [
        {
          "output_type": "stream",
          "name": "stdout",
          "text": [
            "0\n",
            "1\n",
            "2\n",
            "3\n",
            "4\n",
            "5\n",
            "6\n",
            "7\n",
            "8\n",
            "9\n"
          ]
        }
      ]
    },
    {
      "cell_type": "markdown",
      "source": [
        "range(0, 10, 1)"
      ],
      "metadata": {
        "id": "tjqgKBunut6P"
      }
    },
    {
      "cell_type": "code",
      "source": [
        "for i in range(0, 10, 1):\n",
        "    print(i)\n",
        "#This expression specifies both the start point, end point, and the step size explicitly.\n",
        "#The step size is explicitly set to 1 (although 1 is the default value, so it could be omitted without changing the behavior)."
      ],
      "metadata": {
        "colab": {
          "base_uri": "https://localhost:8080/"
        },
        "id": "37AicJnar5qa",
        "outputId": "e20058db-e125-4da5-db44-fe5d218425d2"
      },
      "execution_count": 18,
      "outputs": [
        {
          "output_type": "stream",
          "name": "stdout",
          "text": [
            "0\n",
            "1\n",
            "2\n",
            "3\n",
            "4\n",
            "5\n",
            "6\n",
            "7\n",
            "8\n",
            "9\n"
          ]
        }
      ]
    },
    {
      "cell_type": "markdown",
      "source": [
        "#Q12.Write a short program that prints the numbers 1 to 10 using a for loop. Then write an equivalent\n",
        "program that prints the numbers 1 to 10 using a while loop."
      ],
      "metadata": {
        "id": "Gdx31cfmu9DM"
      }
    },
    {
      "cell_type": "markdown",
      "source": [
        "Using a for loop"
      ],
      "metadata": {
        "id": "Y-gnbaOlvOkb"
      }
    },
    {
      "cell_type": "code",
      "source": [
        "for i in range(1, 11):\n",
        "    print(i)\n"
      ],
      "metadata": {
        "colab": {
          "base_uri": "https://localhost:8080/"
        },
        "id": "_jM5tEuyr5m7",
        "outputId": "1f6f8434-75cd-46dc-d412-41a6a4dbdbe5"
      },
      "execution_count": 19,
      "outputs": [
        {
          "output_type": "stream",
          "name": "stdout",
          "text": [
            "1\n",
            "2\n",
            "3\n",
            "4\n",
            "5\n",
            "6\n",
            "7\n",
            "8\n",
            "9\n",
            "10\n"
          ]
        }
      ]
    },
    {
      "cell_type": "markdown",
      "source": [
        "Using a while loop"
      ],
      "metadata": {
        "id": "yUMsxy9HvUHS"
      }
    },
    {
      "cell_type": "code",
      "source": [
        "i = 1\n",
        "while i <= 10:\n",
        "    print(i)\n",
        "    i += 1\n",
        "#Both programs will produce the same output, printing the numbers 1 to 10, inclusive:\n"
      ],
      "metadata": {
        "colab": {
          "base_uri": "https://localhost:8080/"
        },
        "id": "1oicmdnKvIfc",
        "outputId": "1bd2a08c-be78-4e5a-c9a4-d485c332ae5f"
      },
      "execution_count": 20,
      "outputs": [
        {
          "output_type": "stream",
          "name": "stdout",
          "text": [
            "1\n",
            "2\n",
            "3\n",
            "4\n",
            "5\n",
            "6\n",
            "7\n",
            "8\n",
            "9\n",
            "10\n"
          ]
        }
      ]
    },
    {
      "cell_type": "markdown",
      "source": [
        "#Q13.If you had a function named bacon() inside a module named spam, how would you call it after\n",
        "importing spam?"
      ],
      "metadata": {
        "id": "tLQu1UP8vhCs"
      }
    },
    {
      "cell_type": "code",
      "source": [
        "import spam\n",
        "\n",
        "spam.bacon()\n",
        "#In this example, the spam module is imported using the import statement. The bacon() function can then be accessed using the dot notation, spam.bacon(). This syntax specifies that you want to call the bacon() function, which is defined inside the spam module."
      ],
      "metadata": {
        "id": "ggouiicPvISf"
      },
      "execution_count": null,
      "outputs": []
    },
    {
      "cell_type": "code",
      "source": [],
      "metadata": {
        "id": "eqLYzxDAvIO8"
      },
      "execution_count": null,
      "outputs": []
    },
    {
      "cell_type": "code",
      "source": [],
      "metadata": {
        "id": "HT-8-3OMvIIq"
      },
      "execution_count": null,
      "outputs": []
    },
    {
      "cell_type": "code",
      "source": [],
      "metadata": {
        "id": "7r04Bmw5vIFX"
      },
      "execution_count": null,
      "outputs": []
    },
    {
      "cell_type": "code",
      "source": [],
      "metadata": {
        "id": "bCnYEhGivIBT"
      },
      "execution_count": null,
      "outputs": []
    },
    {
      "cell_type": "code",
      "source": [],
      "metadata": {
        "id": "rVUdsOLmvH9h"
      },
      "execution_count": null,
      "outputs": []
    },
    {
      "cell_type": "code",
      "source": [],
      "metadata": {
        "id": "vshj_SyLvH6I"
      },
      "execution_count": null,
      "outputs": []
    },
    {
      "cell_type": "code",
      "source": [],
      "metadata": {
        "id": "i9AkyKUYvH20"
      },
      "execution_count": null,
      "outputs": []
    },
    {
      "cell_type": "code",
      "source": [],
      "metadata": {
        "id": "unfdW3mkvHzO"
      },
      "execution_count": null,
      "outputs": []
    },
    {
      "cell_type": "code",
      "source": [],
      "metadata": {
        "id": "KUMwurMdvHv9"
      },
      "execution_count": null,
      "outputs": []
    },
    {
      "cell_type": "code",
      "source": [],
      "metadata": {
        "id": "mSrc9DyBvHsI"
      },
      "execution_count": null,
      "outputs": []
    },
    {
      "cell_type": "code",
      "source": [],
      "metadata": {
        "id": "v1C2H5FLvHo8"
      },
      "execution_count": null,
      "outputs": []
    },
    {
      "cell_type": "code",
      "source": [],
      "metadata": {
        "id": "fLncEjfpvHlg"
      },
      "execution_count": null,
      "outputs": []
    },
    {
      "cell_type": "code",
      "source": [],
      "metadata": {
        "id": "jo89SRJ2vHiP"
      },
      "execution_count": null,
      "outputs": []
    },
    {
      "cell_type": "code",
      "source": [],
      "metadata": {
        "id": "TDvY4gnpvHe1"
      },
      "execution_count": null,
      "outputs": []
    },
    {
      "cell_type": "code",
      "source": [],
      "metadata": {
        "id": "GbiJn_hsvHbP"
      },
      "execution_count": null,
      "outputs": []
    },
    {
      "cell_type": "code",
      "source": [],
      "metadata": {
        "id": "d9Zf3sOivHYA"
      },
      "execution_count": null,
      "outputs": []
    },
    {
      "cell_type": "code",
      "source": [],
      "metadata": {
        "id": "YmcR5UtsvHQe"
      },
      "execution_count": null,
      "outputs": []
    },
    {
      "cell_type": "code",
      "source": [],
      "metadata": {
        "id": "bD9dBEBBvHNO"
      },
      "execution_count": null,
      "outputs": []
    },
    {
      "cell_type": "code",
      "source": [],
      "metadata": {
        "id": "N5XWbqgbvHKN"
      },
      "execution_count": null,
      "outputs": []
    },
    {
      "cell_type": "code",
      "source": [],
      "metadata": {
        "id": "bP5ach1tvHGj"
      },
      "execution_count": null,
      "outputs": []
    },
    {
      "cell_type": "code",
      "source": [],
      "metadata": {
        "id": "QxXCXJsLvHDB"
      },
      "execution_count": null,
      "outputs": []
    },
    {
      "cell_type": "code",
      "source": [],
      "metadata": {
        "id": "jXgSphGVvG_V"
      },
      "execution_count": null,
      "outputs": []
    },
    {
      "cell_type": "code",
      "source": [],
      "metadata": {
        "id": "eGDcDyCBvG8P"
      },
      "execution_count": null,
      "outputs": []
    },
    {
      "cell_type": "code",
      "source": [],
      "metadata": {
        "id": "Sdh2OlEIvG5F"
      },
      "execution_count": null,
      "outputs": []
    },
    {
      "cell_type": "code",
      "source": [],
      "metadata": {
        "id": "-ypCbyVDvG16"
      },
      "execution_count": null,
      "outputs": []
    },
    {
      "cell_type": "code",
      "source": [],
      "metadata": {
        "id": "qitN6XRgvGyx"
      },
      "execution_count": null,
      "outputs": []
    },
    {
      "cell_type": "code",
      "source": [],
      "metadata": {
        "id": "dx5o4r2BvGvS"
      },
      "execution_count": null,
      "outputs": []
    },
    {
      "cell_type": "code",
      "source": [],
      "metadata": {
        "id": "Ek32AeUxvGrk"
      },
      "execution_count": null,
      "outputs": []
    },
    {
      "cell_type": "code",
      "source": [],
      "metadata": {
        "id": "3UHngoOWvGon"
      },
      "execution_count": null,
      "outputs": []
    },
    {
      "cell_type": "code",
      "source": [],
      "metadata": {
        "id": "k2laEBgLvGlY"
      },
      "execution_count": null,
      "outputs": []
    },
    {
      "cell_type": "code",
      "source": [],
      "metadata": {
        "id": "VndOUNbkvGht"
      },
      "execution_count": null,
      "outputs": []
    },
    {
      "cell_type": "code",
      "source": [],
      "metadata": {
        "id": "g0y8wOcevGde"
      },
      "execution_count": null,
      "outputs": []
    },
    {
      "cell_type": "code",
      "source": [],
      "metadata": {
        "id": "VO0Dyk0OvGWe"
      },
      "execution_count": null,
      "outputs": []
    },
    {
      "cell_type": "code",
      "source": [],
      "metadata": {
        "id": "7joGZoQir5bB"
      },
      "execution_count": null,
      "outputs": []
    }
  ]
}